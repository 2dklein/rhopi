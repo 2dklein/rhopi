{
 "cells": [
  {
   "cell_type": "code",
   "execution_count": 45,
   "metadata": {},
   "outputs": [],
   "source": [
    "\"\"\"\n",
    "Fake telescope with RHO encoder setup\n",
    "Used for testing Sync and Align\n",
    "Functions:\n",
    "    serial encoder objets Enc()\n",
    "    move scope Enc.move()\n",
    "    current position Enc.read()\n",
    "\"\"\"\n",
    "import random as rn\n",
    "class Enc:\n",
    "    def __init__(self, rate):\n",
    "        self.start = int(100000*rn.random())\n",
    "        self.rate = rate\n",
    "        self.read = self.start\n",
    "        \n",
    "    def move(self, amt):\n",
    "        self.read += self.rate*amt+(int(self.rate*0.15*rn.random()))\n",
    "        return self.read"
   ]
  },
  {
   "cell_type": "code",
   "execution_count": null,
   "metadata": {},
   "outputs": [],
   "source": []
  }
 ],
 "metadata": {
  "kernelspec": {
   "display_name": "Python 2",
   "language": "python",
   "name": "python2"
  },
  "language_info": {
   "codemirror_mode": {
    "name": "ipython",
    "version": 2
   },
   "file_extension": ".py",
   "mimetype": "text/x-python",
   "name": "python",
   "nbconvert_exporter": "python",
   "pygments_lexer": "ipython2",
   "version": "2.7.15"
  }
 },
 "nbformat": 4,
 "nbformat_minor": 2
}
