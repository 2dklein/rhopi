{
 "cells": [
  {
   "cell_type": "code",
   "execution_count": 1,
   "metadata": {},
   "outputs": [],
   "source": [
    "from enc import Enc  # Virtual encoders: test_scope; actual encoders: scope\n",
    "\n",
    "class Scope:\n",
    "    def __init__(self, star):\n",
    "        # Offset initialized as tuple (tick_ha, tick_dec)\n",
    "        self.offset = (Ra.read, Dec.read)  # Encoder values at first sync\n",
    "        self.t0 = ephem.now()  # Time at first sync\n",
    "#         rho.date = t0\n",
    "        star.compute()  # Compute where you say the scope is pointing in RA, DEC\n",
    "        self.star = (float(star.ra), float(star.dec))  # Star at first sync in radians\n",
    "        self.data = { 'Time': [self.t0],  # Timestamp of initialization\n",
    "                      'Ticks': [self.offset],  # Encoder positions in ticks\n",
    "                      'Scope': [self.star],  # Scope position in RA, DEC\n",
    "                      'Target': [self.star],  # Starting target is also the scope position\n",
    "                      'Error': [(0.0, 0.0)] }  # For future use\n",
    "        \n",
    "    def use(self, target):\n",
    "        \"\"\"Input: target ephem object\n",
    "        Output: Updates Scope properties\"\"\"\n",
    "        time = ephem.now()  # Timestamp\n",
    "        target.compute()  # compute star location at time now\n",
    "        ticks = (Ra.read, Dec.read)  # Current encoder read\n",
    "        scope = ( float((ticks[0] - self.offset[0])/Ra.rate) + self.star[0],\n",
    "                  float((ticks[1] - self.offset[1])/Dec.rate) + self.star[1] )\n",
    "        target = (float(target.ra), float(target.dec))  # Current position of target in HA, DEC\n",
    "        error = ( scope[0] - self.data['Scope'][-1][0],\n",
    "                  scope[1] - self.data['Scope'][-1][1] )\n",
    "        self.data['Time'].append(time)\n",
    "        self.data['Ticks'].append(ticks)\n",
    "        self.data['Scope'].append(scope)\n",
    "        self.data['Target'].append(target)\n",
    "        self.data['Error'].append(error)\n",
    "    \n",
    "    def where(self):\n",
    "        ticks = (Ra.read, Dec.read)  # Current encoder read\n",
    "        scope = ( float((ticks[0] - self.offset[0])/Ra.rate) + self.star[0],\n",
    "                 float((ticks[1] - self.offset[1])/Dec.rate) + self.star[1] )    \n",
    "        return (str(ephem.hours(scope[0]).norm),\n",
    "                str(ephem.degrees(scope[1]).znorm))\n",
    "        \n",
    "    def target(self):\n",
    "        target = ( self.data['Target'][-1][0], self.data['Target'][-1][1] )\n",
    "        return (str(ephem.hours(target[0]).norm),\n",
    "                str(ephem.degrees(target[1]).znorm) )\n",
    "        \n",
    "    def track(self):\n",
    "        scope = (ephem.hours(self.where()[0]), ephem.degrees(self.where()[1]))\n",
    "        target = (ephem.hours(self.target()[0]), ephem.degrees(self.target()[1]))\n",
    "        return (str(ephem.hours(target[0] - scope[0])),\n",
    "                str(ephem.degrees(target[1] - scope[1])))\n"
   ]
  },
  {
   "cell_type": "code",
   "execution_count": 2,
   "metadata": {},
   "outputs": [
    {
     "ename": "SerialException",
     "evalue": "[Errno 2] could not open port /dev/RAEncoder: [Errno 2] No such file or directory: '/dev/RAEncoder'",
     "traceback": [
      "\u001b[0;31m\u001b[0m",
      "\u001b[0;31mSerialException\u001b[0mTraceback (most recent call last)",
      "\u001b[0;32m<ipython-input-2-4fb7b93858ad>\u001b[0m in \u001b[0;36m<module>\u001b[0;34m()\u001b[0m\n\u001b[1;32m      1\u001b[0m \u001b[0;32mimport\u001b[0m \u001b[0mephem\u001b[0m\u001b[0;34m\u001b[0m\u001b[0m\n\u001b[0;32m----> 2\u001b[0;31m \u001b[0mRa\u001b[0m \u001b[0;34m=\u001b[0m \u001b[0mEnc\u001b[0m\u001b[0;34m(\u001b[0m\u001b[0;34m'RAEncoder'\u001b[0m\u001b[0;34m)\u001b[0m\u001b[0;34m\u001b[0m\u001b[0m\n\u001b[0m\u001b[1;32m      3\u001b[0m \u001b[0mDec\u001b[0m \u001b[0;34m=\u001b[0m \u001b[0mEnc\u001b[0m\u001b[0;34m(\u001b[0m\u001b[0;34m'DECEncoder'\u001b[0m\u001b[0;34m)\u001b[0m\u001b[0;34m\u001b[0m\u001b[0m\n\u001b[1;32m      4\u001b[0m \u001b[0;34m\u001b[0m\u001b[0m\n\u001b[1;32m      5\u001b[0m \u001b[0mrho\u001b[0m \u001b[0;34m=\u001b[0m \u001b[0mScope\u001b[0m\u001b[0;34m(\u001b[0m\u001b[0mephem\u001b[0m\u001b[0;34m.\u001b[0m\u001b[0mstar\u001b[0m\u001b[0;34m(\u001b[0m\u001b[0;34m'Polaris'\u001b[0m\u001b[0;34m)\u001b[0m\u001b[0;34m)\u001b[0m\u001b[0;34m\u001b[0m\u001b[0m\n",
      "\u001b[0;32m/home/djklein/PycharmProjects/RhoPi/enc.py\u001b[0m in \u001b[0;36m__init__\u001b[0;34m(self, name)\u001b[0m\n\u001b[1;32m     35\u001b[0m \u001b[0;34m\u001b[0m\u001b[0m\n\u001b[1;32m     36\u001b[0m     \u001b[0;32mdef\u001b[0m \u001b[0m__init__\u001b[0m\u001b[0;34m(\u001b[0m\u001b[0mself\u001b[0m\u001b[0;34m,\u001b[0m \u001b[0mname\u001b[0m\u001b[0;34m)\u001b[0m\u001b[0;34m:\u001b[0m\u001b[0;34m\u001b[0m\u001b[0m\n\u001b[0;32m---> 37\u001b[0;31m         \u001b[0mself\u001b[0m\u001b[0;34m.\u001b[0m\u001b[0menc\u001b[0m \u001b[0;34m=\u001b[0m \u001b[0mser\u001b[0m\u001b[0;34m.\u001b[0m\u001b[0mSerial\u001b[0m\u001b[0;34m(\u001b[0m\u001b[0mport\u001b[0m\u001b[0;34m=\u001b[0m\u001b[0;34m'/dev/'\u001b[0m\u001b[0;34m+\u001b[0m\u001b[0mstr\u001b[0m\u001b[0;34m(\u001b[0m\u001b[0mname\u001b[0m\u001b[0;34m)\u001b[0m\u001b[0;34m,\u001b[0m \u001b[0mbaudrate\u001b[0m\u001b[0;34m=\u001b[0m\u001b[0;36m230400\u001b[0m\u001b[0;34m,\u001b[0m \u001b[0mparity\u001b[0m\u001b[0;34m=\u001b[0m\u001b[0mser\u001b[0m\u001b[0;34m.\u001b[0m\u001b[0mPARITY_NONE\u001b[0m\u001b[0;34m,\u001b[0m \u001b[0mstopbits\u001b[0m\u001b[0;34m=\u001b[0m\u001b[0mser\u001b[0m\u001b[0;34m.\u001b[0m\u001b[0mSTOPBITS_ONE\u001b[0m\u001b[0;34m,\u001b[0m \u001b[0mbytesize\u001b[0m\u001b[0;34m=\u001b[0m\u001b[0mser\u001b[0m\u001b[0;34m.\u001b[0m\u001b[0mEIGHTBITS\u001b[0m\u001b[0;34m,\u001b[0m \u001b[0mxonxoff\u001b[0m\u001b[0;34m=\u001b[0m\u001b[0mser\u001b[0m\u001b[0;34m.\u001b[0m\u001b[0mXOFF\u001b[0m\u001b[0;34m,\u001b[0m \u001b[0mdsrdtr\u001b[0m\u001b[0;34m=\u001b[0m\u001b[0mFalse\u001b[0m\u001b[0;34m,\u001b[0m \u001b[0mrtscts\u001b[0m\u001b[0;34m=\u001b[0m\u001b[0mFalse\u001b[0m\u001b[0;34m,\u001b[0m \u001b[0mtimeout\u001b[0m\u001b[0;34m=\u001b[0m\u001b[0mNone\u001b[0m\u001b[0;34m)\u001b[0m\u001b[0;34m\u001b[0m\u001b[0m\n\u001b[0m\u001b[1;32m     38\u001b[0m \u001b[0;34m\u001b[0m\u001b[0m\n\u001b[1;32m     39\u001b[0m     \u001b[0;32mdef\u001b[0m \u001b[0mread\u001b[0m\u001b[0;34m(\u001b[0m\u001b[0mself\u001b[0m\u001b[0;34m,\u001b[0m \u001b[0mname\u001b[0m\u001b[0;34m)\u001b[0m\u001b[0;34m:\u001b[0m  \u001b[0;31m# Read an initialized encoder with encoder_name.read()\u001b[0m\u001b[0;34m\u001b[0m\u001b[0m\n",
      "\u001b[0;32m/home/djklein/anaconda2/lib/python2.7/site-packages/serial/serialutil.pyc\u001b[0m in \u001b[0;36m__init__\u001b[0;34m(self, port, baudrate, bytesize, parity, stopbits, timeout, xonxoff, rtscts, write_timeout, dsrdtr, inter_byte_timeout, exclusive, **kwargs)\u001b[0m\n\u001b[1;32m    238\u001b[0m \u001b[0;34m\u001b[0m\u001b[0m\n\u001b[1;32m    239\u001b[0m         \u001b[0;32mif\u001b[0m \u001b[0mport\u001b[0m \u001b[0;32mis\u001b[0m \u001b[0;32mnot\u001b[0m \u001b[0mNone\u001b[0m\u001b[0;34m:\u001b[0m\u001b[0;34m\u001b[0m\u001b[0m\n\u001b[0;32m--> 240\u001b[0;31m             \u001b[0mself\u001b[0m\u001b[0;34m.\u001b[0m\u001b[0mopen\u001b[0m\u001b[0;34m(\u001b[0m\u001b[0;34m)\u001b[0m\u001b[0;34m\u001b[0m\u001b[0m\n\u001b[0m\u001b[1;32m    241\u001b[0m \u001b[0;34m\u001b[0m\u001b[0m\n\u001b[1;32m    242\u001b[0m     \u001b[0;31m#  -  -  -  -  -  -  -  -  -  -  -  -  -  -  -  -  -  -  -  -  -  -  -  -\u001b[0m\u001b[0;34m\u001b[0m\u001b[0;34m\u001b[0m\u001b[0m\n",
      "\u001b[0;32m/home/djklein/anaconda2/lib/python2.7/site-packages/serial/serialposix.pyc\u001b[0m in \u001b[0;36mopen\u001b[0;34m(self)\u001b[0m\n\u001b[1;32m    266\u001b[0m         \u001b[0;32mexcept\u001b[0m \u001b[0mOSError\u001b[0m \u001b[0;32mas\u001b[0m \u001b[0mmsg\u001b[0m\u001b[0;34m:\u001b[0m\u001b[0;34m\u001b[0m\u001b[0m\n\u001b[1;32m    267\u001b[0m             \u001b[0mself\u001b[0m\u001b[0;34m.\u001b[0m\u001b[0mfd\u001b[0m \u001b[0;34m=\u001b[0m \u001b[0mNone\u001b[0m\u001b[0;34m\u001b[0m\u001b[0m\n\u001b[0;32m--> 268\u001b[0;31m             \u001b[0;32mraise\u001b[0m \u001b[0mSerialException\u001b[0m\u001b[0;34m(\u001b[0m\u001b[0mmsg\u001b[0m\u001b[0;34m.\u001b[0m\u001b[0merrno\u001b[0m\u001b[0;34m,\u001b[0m \u001b[0;34m\"could not open port {}: {}\"\u001b[0m\u001b[0;34m.\u001b[0m\u001b[0mformat\u001b[0m\u001b[0;34m(\u001b[0m\u001b[0mself\u001b[0m\u001b[0;34m.\u001b[0m\u001b[0m_port\u001b[0m\u001b[0;34m,\u001b[0m \u001b[0mmsg\u001b[0m\u001b[0;34m)\u001b[0m\u001b[0;34m)\u001b[0m\u001b[0;34m\u001b[0m\u001b[0m\n\u001b[0m\u001b[1;32m    269\u001b[0m         \u001b[0;31m#~ fcntl.fcntl(self.fd, fcntl.F_SETFL, 0)  # set blocking\u001b[0m\u001b[0;34m\u001b[0m\u001b[0;34m\u001b[0m\u001b[0m\n\u001b[1;32m    270\u001b[0m \u001b[0;34m\u001b[0m\u001b[0m\n",
      "\u001b[0;31mSerialException\u001b[0m: [Errno 2] could not open port /dev/RAEncoder: [Errno 2] No such file or directory: '/dev/RAEncoder'"
     ],
     "output_type": "error"
    }
   ],
   "source": [
    "import ephem\n",
    "Ra = Enc('RAEncoder')\n",
    "Dec = Enc('DECEncoder')\n",
    "\n",
    "rho = Scope(ephem.star('Polaris'))"
   ]
  },
  {
   "cell_type": "code",
   "execution_count": 31,
   "metadata": {},
   "outputs": [
    {
     "name": "stdout",
     "output_type": "stream",
     "text": [
      "Current Target: ('18:59:38.80', '32:42:53.5')\n",
      "Scope is at: ('2:53:13.65', '89:20:11.6')\n",
      "Tracking: ('16:06:25.15', '-56:37:18.1')\n"
     ]
    }
   ],
   "source": [
    "rho.use(ephem.star('Sulafat'))\n",
    "print 'Current Target:', rho.target()\n",
    "print 'Scope is at:', rho.where()\n",
    "print 'Tracking:', rho.track()"
   ]
  },
  {
   "cell_type": "code",
   "execution_count": 39,
   "metadata": {},
   "outputs": [
    {
     "name": "stdout",
     "output_type": "stream",
     "text": [
      "407141\n",
      "-238172\n"
     ]
    }
   ],
   "source": [
    "print Ra.move(20*3.14159/12)\n",
    "print Dec.move(4)"
   ]
  },
  {
   "cell_type": "code",
   "execution_count": 40,
   "metadata": {},
   "outputs": [
    {
     "name": "stdout",
     "output_type": "stream",
     "text": [
      "Current Target: ('18:59:38.80', '32:42:53.5')\n",
      "Scope is at: ('11:37:43.50', '-73:55:51.5')\n",
      "Tracking: ('7:21:55.30', '106:38:45.0')\n",
      "Ticks [(404964, -241517), (404964, -241517)]\n"
     ]
    }
   ],
   "source": [
    "print 'Current Target:', rho.target()\n",
    "print 'Scope is at:', rho.where()\n",
    "print 'Tracking:', rho.track()\n",
    "print 'Ticks', rho.data['Ticks']"
   ]
  },
  {
   "cell_type": "code",
   "execution_count": 34,
   "metadata": {},
   "outputs": [
    {
     "name": "stdout",
     "output_type": "stream",
     "text": [
      "Scope [(0.755847723621133, 1.5592171337708383), (0.755847723621133, 1.5592171337708383)]\n",
      "Error [(0.0, 0.0), (0.0, 0.0)]\n",
      "Ticks [(404964, -241517), (404964, -241517)]\n",
      "Target [(0.755847723621133, 1.5592171337708383), (4.972646869347188, 0.5709820528881966)]\n",
      "Time [43254.266446759255, 43254.266446759255]\n"
     ]
    }
   ],
   "source": [
    "for key, value in zip(rho.data.keys(), rho.data.values()):\n",
    "    print key, value"
   ]
  },
  {
   "cell_type": "code",
   "execution_count": 7,
   "metadata": {},
   "outputs": [
    {
     "name": "stdout",
     "output_type": "stream",
     "text": [
      "7:24:24.2 7:24:24.2\n",
      "5:56:07.96 5:56:07.96\n"
     ]
    }
   ],
   "source": [
    "print arc.g_dec, arc.dec\n",
    "print arc.g_ra, arc.ra"
   ]
  },
  {
   "cell_type": "code",
   "execution_count": null,
   "metadata": {},
   "outputs": [],
   "source": []
  }
 ],
 "metadata": {
  "kernelspec": {
   "display_name": "Python 2",
   "language": "python",
   "name": "python2"
  },
  "language_info": {
   "codemirror_mode": {
    "name": "ipython",
    "version": 2
   },
   "file_extension": ".py",
   "mimetype": "text/x-python",
   "name": "python",
   "nbconvert_exporter": "python",
   "pygments_lexer": "ipython2",
   "version": "2.7.15"
  }
 },
 "nbformat": 4,
 "nbformat_minor": 2
}
