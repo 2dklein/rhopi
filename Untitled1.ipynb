{
 "cells": [
  {
   "cell_type": "code",
   "execution_count": 14,
   "metadata": {},
   "outputs": [
    {
     "name": "stdout",
     "output_type": "stream",
     "text": [
      "__del__\n"
     ]
    }
   ],
   "source": [
    "class myclass:\n",
    "    def __new__(cls):\n",
    "        check=0\n",
    "        if check is 0:\n",
    "            return False\n",
    "    \n",
    "    def __init__(self):\n",
    "        self.obj = '__init__'\n",
    "\n",
    "    def __enter__(self): \n",
    "        print(\"__enter__\")\n",
    "\n",
    "    def __exit__(self, type, value, traceback):\n",
    "        print(\"__exit__\")\n",
    "\n",
    "    def __del__(self):\n",
    "        print(\"__del__\")\n",
    "\n",
    "try:\n",
    "    itme = myclass()\n",
    "except:\n",
    "    print \"exception\"\n",
    "    "
   ]
  },
  {
   "cell_type": "code",
   "execution_count": null,
   "metadata": {},
   "outputs": [],
   "source": []
  }
 ],
 "metadata": {
  "kernelspec": {
   "display_name": "Python 2",
   "language": "python",
   "name": "python2"
  },
  "language_info": {
   "codemirror_mode": {
    "name": "ipython",
    "version": 2
   },
   "file_extension": ".py",
   "mimetype": "text/x-python",
   "name": "python",
   "nbconvert_exporter": "python",
   "pygments_lexer": "ipython2",
   "version": "2.7.15"
  }
 },
 "nbformat": 4,
 "nbformat_minor": 2
}
